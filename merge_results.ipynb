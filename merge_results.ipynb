{
 "cells": [
  {
   "cell_type": "code",
   "execution_count": 18,
   "metadata": {},
   "outputs": [],
   "source": [
    "import pandas as pd\n",
    "import os\n",
    "import numpy as np"
   ]
  },
  {
   "cell_type": "code",
   "execution_count": 37,
   "metadata": {},
   "outputs": [
    {
     "name": "stdout",
     "output_type": "stream",
     "text": [
      "results/dima_result.csv.zip\n",
      "results/marat_result.csv.zip\n"
     ]
    }
   ],
   "source": [
    "for dirpath, _, filenames in os.walk('results'):\n",
    "    all_dfs = []\n",
    "    \n",
    "    for file_name in filenames:\n",
    "        if not file_name.startswith('ignored'):\n",
    "            if file_name.endswith(\".zip\"):\n",
    "                file_path = os.path.join(dirpath, file_name)\n",
    "                print(file_path)\n",
    "                df = pd.read_csv(file_path, compression='zip').set_index(['id'])\n",
    "                all_dfs.append(df)\n",
    "\n",
    "    data_shape, idx, columns_names = all_dfs[0].shape, all_dfs[0].index, all_dfs[0].columns\n",
    "    result = pd.DataFrame(data=np.zeros(data_shape), index=idx, columns=columns_names)\n",
    "    for df in all_dfs:\n",
    "        result += df\n",
    "    out = result / len(all_dfs)\n",
    "    out.to_csv('average_result_from_2_models_marat_dima.csv')\n",
    "#     print(out)\n",
    "    \n",
    "\n",
    "        \n",
    "        \n",
    "    \n",
    "\n",
    "\n",
    "\n"
   ]
  },
  {
   "cell_type": "code",
   "execution_count": null,
   "metadata": {},
   "outputs": [],
   "source": []
  }
 ],
 "metadata": {
  "kernelspec": {
   "display_name": "Python 3",
   "language": "python",
   "name": "python3"
  },
  "language_info": {
   "codemirror_mode": {
    "name": "ipython",
    "version": 3
   },
   "file_extension": ".py",
   "mimetype": "text/x-python",
   "name": "python",
   "nbconvert_exporter": "python",
   "pygments_lexer": "ipython3",
   "version": "3.6.1"
  }
 },
 "nbformat": 4,
 "nbformat_minor": 2
}
